{
 "cells": [
  {
   "cell_type": "code",
   "execution_count": 4,
   "id": "77760120-acd2-4d7b-876c-1c1cf7674493",
   "metadata": {},
   "outputs": [
    {
     "name": "stdout",
     "output_type": "stream",
     "text": [
      "a sama dengan b\n"
     ]
    }
   ],
   "source": [
    "a = 10\n",
    "b = 10\n",
    "\n",
    "if (a == b):\n",
    "    print (\"a sama dengan b\")\n",
    "    "
   ]
  },
  {
   "cell_type": "code",
   "execution_count": 6,
   "id": "be2f2ab5-0048-4700-9617-035cda8d6fb2",
   "metadata": {},
   "outputs": [
    {
     "name": "stdout",
     "output_type": "stream",
     "text": [
      "c tidak falsy\n"
     ]
    }
   ],
   "source": [
    "c = \"abcd\" # angka 0, list kosong [], tuple kosong (), dict kosong {}, string kosong \"\"\n",
    "\n",
    "if c:\n",
    "    print(\"c tidak falsy\")"
   ]
  },
  {
   "cell_type": "code",
   "execution_count": 11,
   "id": "b2353acd-16a5-4394-aaab-0d0568b608b0",
   "metadata": {},
   "outputs": [
    {
     "name": "stdout",
     "output_type": "stream",
     "text": [
      "ada jakarta di dalam str\n",
      "...\n",
      "hi\n"
     ]
    }
   ],
   "source": [
    "str = \"bandung kota dekat jakarta\"\n",
    "\n",
    "if \"jakarta\" in str:\n",
    "    print (\"ada jakarta di dalam str\")\n",
    "    print (\"...\")\n",
    "    \n",
    "print (\"hi\")"
   ]
  },
  {
   "cell_type": "markdown",
   "id": "6c546e4f-af53-4be4-88ad-d6b162412282",
   "metadata": {},
   "source": [
    "nested if"
   ]
  },
  {
   "cell_type": "code",
   "execution_count": 16,
   "id": "d6e99c99-c7a5-442f-935d-cabbe4868ba8",
   "metadata": {},
   "outputs": [
    {
     "name": "stdout",
     "output_type": "stream",
     "text": [
      "a lebih besar dari b\n",
      "diluar if a < b\n"
     ]
    }
   ],
   "source": [
    "a = 50\n",
    "b = 10\n",
    "c = 6\n",
    "\n",
    "if a < b:\n",
    "    print (\"a < b\")\n",
    "    \n",
    "    if b < c:\n",
    "        print (\"a < b < c\")\n",
    "        \n",
    "    if a < c:\n",
    "        print(\"a < b dan a < c\")\n",
    "    \n",
    "    print (\"ok\")\n",
    "else: \n",
    "    print (\"a lebih besar dari b\")\n",
    "    \n",
    "print (\"diluar if a < b\")"
   ]
  },
  {
   "cell_type": "code",
   "execution_count": 25,
   "id": "ff410203-9318-4561-a707-161f4eb26672",
   "metadata": {},
   "outputs": [
    {
     "name": "stdout",
     "output_type": "stream",
     "text": [
      "tidak jadi jalan-jalan\n"
     ]
    }
   ],
   "source": [
    "# hari ini mau jalan-jalan kalau uang nya cukup\n",
    "\n",
    "uang_cukup = 50000\n",
    "uang_dompet = 49999\n",
    "\n",
    "if uang_dompet > uang_cukup:\n",
    "    print(\"jalan-jalan\")\n",
    "elif uang_dompet == uang_cukup:\n",
    "    print (\"tergantung cuaca\")\n",
    "\n",
    "else:\n",
    "    print (\"tidak jadi jalan-jalan\")"
   ]
  },
  {
   "cell_type": "code",
   "execution_count": 33,
   "id": "1d4c2125-4349-424c-875a-8063491ab23a",
   "metadata": {},
   "outputs": [
    {
     "name": "stdout",
     "output_type": "stream",
     "text": [
      "halo\n",
      "halo azka\n"
     ]
    }
   ],
   "source": [
    "nama_murid = \"azka\"\n",
    "\n",
    "if nama_murid == \"kevin\":\n",
    "    print(\"halo kevin\")\n",
    "elif nama_murid == \"azla\":\n",
    "    print (\"halo azka\")\n",
    "elif nama_murid == \"kanzi\":\n",
    "    print (\"halo kanzi\")\n",
    "elif nama_murid == \"rudy\":\n",
    "    print (\"halo rudy\")\n",
    "elif nama_murid == \"ryan\":\n",
    "    print (\"halo ryan\")\n",
    "elif nama_murid == \"hesti\":\n",
    "    print (\"halo hesti\")\n",
    "else:\n",
    "    print(\"halo\")\n",
    "    \n",
    "    \n",
    "print (\"halo \" + nama_murid)"
   ]
  },
  {
   "cell_type": "code",
   "execution_count": 32,
   "id": "f4756c5b-7e4b-4e91-8f8a-6feee16d7c46",
   "metadata": {},
   "outputs": [
    {
     "name": "stdout",
     "output_type": "stream",
     "text": [
      "halo kanzi\n"
     ]
    }
   ],
   "source": [
    "list_murid = (\"kevin\", \"azka\", \"kanzi\", \"rudy\", \"ryan\", \"hesti\")\n",
    "\n",
    "if nama_murid in list_murid:\n",
    "    print(\"halo \" + nama_murid)"
   ]
  },
  {
   "cell_type": "code",
   "execution_count": 43,
   "id": "92a5c737-d4bd-4b72-8edb-2e111989eb9e",
   "metadata": {},
   "outputs": [
    {
     "name": "stdout",
     "output_type": "stream",
     "text": [
      "halo\n",
      "selamat\n",
      "datang\n",
      "ryan\n"
     ]
    }
   ],
   "source": [
    "if nama_murid == \"ryan\": print(\"halo\"); print(\"selamat\"); print(\"datang\"); print(\"ryan\")"
   ]
  },
  {
   "cell_type": "code",
   "execution_count": 41,
   "id": "956cd5a0-415c-4031-a0ca-56b16793ae45",
   "metadata": {},
   "outputs": [
    {
     "name": "stdout",
     "output_type": "stream",
     "text": [
      "selamat malam ryan\n"
     ]
    }
   ],
   "source": [
    "nama_murid = \"ryan\"\n",
    "print (\"selamat malam\", nama_murid if nama_murid == \"ryan\" else \"di h8\")"
   ]
  },
  {
   "cell_type": "code",
   "execution_count": 46,
   "id": "82db1f0e-b9ff-4231-b004-1bda7c05076e",
   "metadata": {},
   "outputs": [
    {
     "name": "stdout",
     "output_type": "stream",
     "text": [
      "selesai\n"
     ]
    }
   ],
   "source": [
    "if nama_murid == \"idaz\":\n",
    "    pass #untuk membuat tidak error karena blok statement if tidak boleh kosong\n",
    "print(\"selesai\")"
   ]
  },
  {
   "cell_type": "code",
   "execution_count": 52,
   "id": "021045d7-9c6c-45a1-a6f0-1607fb7db6cd",
   "metadata": {},
   "outputs": [
    {
     "name": "stdout",
     "output_type": "stream",
     "text": [
      "pushup\n",
      "pushup\n",
      "pushup\n",
      "pushup\n",
      "pushup\n",
      "pushup\n",
      "pushup\n",
      "pushup\n",
      "pushup\n",
      "pushup\n",
      "10\n"
     ]
    }
   ],
   "source": [
    "#perulangan, while, mirip if tapi dia jalan terus sampai expression nya false\n",
    "\n",
    "total_pushup = 10\n",
    "sudah_pushup = 0\n",
    "\n",
    "while sudah_pushup < total_pushup:\n",
    "    print(\"pushup\")\n",
    "    sudah_pushup = sudah_pushup + 1\n",
    "\n",
    "print (sudah_pushup)"
   ]
  },
  {
   "cell_type": "code",
   "execution_count": null,
   "id": "11918f23-2832-40e3-b367-e7c6e153726e",
   "metadata": {},
   "outputs": [],
   "source": [
    "#contoh expresi yang selamanya True sehingga tidak pernah keluar dari zona loop\n",
    "nama_murid = \"idaz\"\n",
    "while nama_murid == \"idaz\": #jangan dilakukan, infnite loop\n",
    "    print(\"halo\")"
   ]
  },
  {
   "cell_type": "code",
   "execution_count": null,
   "id": "2ac7825a-d2d5-4d9d-b07e-6e83f6940c4a",
   "metadata": {},
   "outputs": [],
   "source": [
    "while nama_murid == \"idaz\":\n",
    "    print (\"halo\")\n",
    "    break #menghentikan loop"
   ]
  },
  {
   "cell_type": "code",
   "execution_count": 9,
   "id": "fd74f716-1b52-43c5-8bed-219b50bd39a8",
   "metadata": {},
   "outputs": [
    {
     "name": "stdout",
     "output_type": "stream",
     "text": [
      "9\n",
      "8\n",
      "7\n",
      "6\n",
      "5\n",
      "5\n"
     ]
    }
   ],
   "source": [
    "n = 10\n",
    "while n > 5:\n",
    "    n -= 1\n",
    "    if n > 10:\n",
    "        continue\n",
    "    print(n)\n",
    "print(n)"
   ]
  },
  {
   "cell_type": "code",
   "execution_count": 1,
   "id": "81598721-4824-4810-b489-4d6a2698a2a8",
   "metadata": {},
   "outputs": [
    {
     "name": "stdout",
     "output_type": "stream",
     "text": [
      "hi diaz\n"
     ]
    }
   ],
   "source": [
    "nama_murid = \"idaz\"\n",
    "while nama_murid == \"idaz\":\n",
    "    print(\"hi diaz\")\n",
    "    break\n",
    "else:\n",
    "    print(\"selamat malam \" + nama_murid)"
   ]
  },
  {
   "cell_type": "code",
   "execution_count": 3,
   "id": "1c4be6cb-6c62-4048-a928-d8212ffd18fd",
   "metadata": {},
   "outputs": [
    {
     "name": "stdout",
     "output_type": "stream",
     "text": [
      "ngulang 10x 10\n",
      "ngulang 10x 9\n",
      "ngulang 10x 8\n",
      "ngulang 10x 7\n",
      "ngulang 10x 6\n",
      "ngulang 10x 5\n",
      "ngulang 10x 4\n",
      "ngulang 10x 3\n",
      "ngulang 10x 2\n",
      "ngulang 10x 1\n"
     ]
    }
   ],
   "source": [
    "n = 10\n",
    "while n > 0:\n",
    "    print (\"ngulang 10x\", n)\n",
    "    n -= 1"
   ]
  },
  {
   "cell_type": "code",
   "execution_count": 2,
   "id": "3415081d-f750-4e7f-81b8-c6a30ccfa105",
   "metadata": {},
   "outputs": [
    {
     "name": "stdout",
     "output_type": "stream",
     "text": [
      "while pertama 10\n",
      "while kedua, nested 3\n",
      "while kedua, nested 2\n",
      "while kedua, nested 1\n",
      "while pertama 9\n",
      "while kedua, nested 3\n",
      "while kedua, nested 2\n",
      "while kedua, nested 1\n",
      "while pertama 8\n",
      "while kedua, nested 3\n",
      "while kedua, nested 2\n",
      "while kedua, nested 1\n",
      "while pertama 7\n",
      "while kedua, nested 3\n",
      "while kedua, nested 2\n",
      "while kedua, nested 1\n",
      "while pertama 6\n",
      "while kedua, nested 3\n",
      "while kedua, nested 2\n",
      "while kedua, nested 1\n",
      "while pertama 5\n",
      "while kedua, nested 3\n",
      "while kedua, nested 2\n",
      "while kedua, nested 1\n",
      "while pertama 4\n",
      "while kedua, nested 3\n",
      "while kedua, nested 2\n",
      "while kedua, nested 1\n",
      "while pertama 3\n",
      "while kedua, nested 3\n",
      "while kedua, nested 2\n",
      "while kedua, nested 1\n",
      "while pertama 2\n",
      "while kedua, nested 3\n",
      "while kedua, nested 2\n",
      "while kedua, nested 1\n",
      "while pertama 1\n",
      "while kedua, nested 3\n",
      "while kedua, nested 2\n",
      "while kedua, nested 1\n",
      "30\n"
     ]
    }
   ],
   "source": [
    "count = 0\n",
    "n = 10\n",
    "while n > 0:\n",
    "    print (\"while pertama\", n)\n",
    "    \n",
    "    a = 3\n",
    "    \n",
    "    while a > 0:\n",
    "        print (\"while kedua, nested\", a)\n",
    "        a -= 1\n",
    "        count += 1\n",
    "    \n",
    "    n -= 1\n",
    "    \n",
    "print (count)\n",
    "    "
   ]
  },
  {
   "cell_type": "code",
   "execution_count": 1,
   "id": "697d5972-7ced-4834-a498-dae292cec961",
   "metadata": {},
   "outputs": [
    {
     "ename": "SyntaxError",
     "evalue": "invalid syntax (<ipython-input-1-a699827bfc89>, line 7)",
     "output_type": "error",
     "traceback": [
      "\u001b[0;36m  File \u001b[0;32m\"<ipython-input-1-a699827bfc89>\"\u001b[0;36m, line \u001b[0;32m7\u001b[0m\n\u001b[0;31m    while a > 0\u001b[0m\n\u001b[0m               ^\u001b[0m\n\u001b[0;31mSyntaxError\u001b[0m\u001b[0;31m:\u001b[0m invalid syntax\n"
     ]
    }
   ],
   "source": [
    "count = 0\n",
    "n = 10\n",
    "while n > 0:\n",
    "    print (\"while pertama\", n)\n",
    "    \n",
    "    a = 3\n",
    "    while a > 0\n",
    "    print (\"while kedua, nested\", a)"
   ]
  },
  {
   "cell_type": "code",
   "execution_count": 9,
   "id": "e450f665-6e73-4e91-a087-2904ffddf53f",
   "metadata": {},
   "outputs": [
    {
     "name": "stdout",
     "output_type": "stream",
     "text": [
      "0\n",
      "1\n",
      "2\n",
      "3\n",
      "4\n"
     ]
    }
   ],
   "source": [
    "for n in range(5):\n",
    "    print(n)"
   ]
  },
  {
   "cell_type": "code",
   "execution_count": 13,
   "id": "0a9bf8b8-0b95-42cd-8ae0-b759c7ca7704",
   "metadata": {},
   "outputs": [
    {
     "name": "stdout",
     "output_type": "stream",
     "text": [
      "halo kevin\n",
      "halo azka\n",
      "halo kanzi\n",
      "selamat malam\n",
      "halo rudy\n",
      "halo ryan\n",
      "halo hesti\n"
     ]
    }
   ],
   "source": [
    "list_murid = (\"kevin\", \"azka\", \"kanzi\", \"rudy\", \"ryan\", \"hesti\")\n",
    "\n",
    "for murid in list_murid:\n",
    "    print (\"halo\", murid)\n",
    "    if murid == \"kanzi\":\n",
    "        print(\"selamat malam\")"
   ]
  },
  {
   "cell_type": "code",
   "execution_count": 17,
   "id": "aa9df673-64ab-4e62-80a4-069bf5c41dfb",
   "metadata": {},
   "outputs": [
    {
     "name": "stdout",
     "output_type": "stream",
     "text": [
      "kevin\n",
      "azka\n",
      "kanzi\n",
      "rudy\n",
      "ryan\n",
      "hesti\n"
     ]
    }
   ],
   "source": [
    "dict_murid = {\"kevin\": 80, \"azka\": 90, \"kanzi\": 100, \"rudy\": 70, \"ryan\": 60, \"hesti\": 86}\n",
    "for murid in dict_murid:\n",
    "    print(murid)"
   ]
  },
  {
   "cell_type": "code",
   "execution_count": 26,
   "id": "8095acd3-b0b5-49be-a85a-0afc3cad667c",
   "metadata": {},
   "outputs": [
    {
     "name": "stdout",
     "output_type": "stream",
     "text": [
      "kevin 80\n",
      "azka 90\n",
      "kanzi 100\n",
      "rudy 70\n",
      "ryan 60\n",
      "hesti 86\n"
     ]
    }
   ],
   "source": [
    "for murid, nilai in dict_murid.items():\n",
    "    print(murid,nilai)"
   ]
  },
  {
   "cell_type": "code",
   "execution_count": 25,
   "id": "ce608ab3-d524-4aab-b0d2-c3ed570e0d07",
   "metadata": {},
   "outputs": [
    {
     "name": "stdout",
     "output_type": "stream",
     "text": [
      "kevin 80\n",
      "diluar loop\n"
     ]
    }
   ],
   "source": [
    "for murid in dict_murid:\n",
    "    print(murid, dict_murid[murid])\n",
    "    break\n",
    "else:\n",
    "    print(\"for loop nya selesai\") #tidak jalan kalau ada break di dalam for\n",
    "\n",
    "print (\"diluar loop\") #jalan walaupun for nya di break"
   ]
  },
  {
   "cell_type": "code",
   "execution_count": 6,
   "id": "2b09f0b0-3c78-4352-b79d-eb0bfa4346d8",
   "metadata": {},
   "outputs": [
    {
     "name": "stdout",
     "output_type": "stream",
     "text": [
      "0\n",
      "50\n",
      "100\n"
     ]
    }
   ],
   "source": [
    "for n in range (0, 101,50):\n",
    "    print(n)"
   ]
  },
  {
   "cell_type": "code",
   "execution_count": 2,
   "id": "50124f81-cf8f-4eb1-97fb-6f63c923eab4",
   "metadata": {},
   "outputs": [],
   "source": [
    "for n in range (9, -10, 3):\n",
    "    print(n) "
   ]
  },
  {
   "cell_type": "raw",
   "id": "864f8fd4-0799-42fe-9f8f-6e38c20f30d2",
   "metadata": {},
   "source": []
  },
  {
   "cell_type": "code",
   "execution_count": 14,
   "id": "df82a90d-45a0-4c3b-8147-13157d62379f",
   "metadata": {},
   "outputs": [
    {
     "name": "stdout",
     "output_type": "stream",
     "text": [
      "tidak lapar tapi haus, pesan air putih saja\n"
     ]
    }
   ],
   "source": [
    "lapar = True\n",
    "haus = True\n",
    "\n",
    "# kalau lapar, tidak haus\n",
    "# kalau tidak lapar, tapi haus\n",
    "# kalau lapar, dan haus\n",
    "\n",
    "if lapar and haus == False:\n",
    "    print(\"lapar tapi tidak haus, pesan nasi saja\")\n",
    "elif lapar and haus == True:\n",
    "    print (\"tidak lapar tapi haus, pesan air putih saja\")\n",
    "elif lapar and haus == True:\n",
    "    print (\"lapar dan haus, pesan paket makan dan minum\")\n",
    "else:\n",
    "    print(\"tidak lapar, dan tidak haus, tidak pesan apa-apa\")"
   ]
  },
  {
   "cell_type": "code",
   "execution_count": 13,
   "id": "e229cc9c-01b3-4942-a8b5-b2be8f820947",
   "metadata": {},
   "outputs": [
    {
     "name": "stdout",
     "output_type": "stream",
     "text": [
      "beresin kamar\n"
     ]
    }
   ],
   "source": [
    "# kita berberes kamar kalau berantakan atau kalau dimarahi ibu\n",
    "berantakan = True\n",
    "dimarahin = False\n",
    "\n",
    "if berantakan or dimarahin:\n",
    "    print(\"beresin kamar\")\n",
    "else:\n",
    "    print (\"tidak beresin kamar\")"
   ]
  },
  {
   "cell_type": "code",
   "execution_count": null,
   "id": "a7fc913f-f80d-4f84-a281-7416199993ab",
   "metadata": {},
   "outputs": [],
   "source": []
  }
 ],
 "metadata": {
  "kernelspec": {
   "display_name": "Python 3",
   "language": "python",
   "name": "python3"
  },
  "language_info": {
   "codemirror_mode": {
    "name": "ipython",
    "version": 3
   },
   "file_extension": ".py",
   "mimetype": "text/x-python",
   "name": "python",
   "nbconvert_exporter": "python",
   "pygments_lexer": "ipython3",
   "version": "3.8.8"
  }
 },
 "nbformat": 4,
 "nbformat_minor": 5
}
